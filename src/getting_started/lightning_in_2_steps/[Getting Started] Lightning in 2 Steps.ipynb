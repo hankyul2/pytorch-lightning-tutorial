{
 "cells": [
  {
   "cell_type": "markdown",
   "id": "e92647b2",
   "metadata": {},
   "source": [
    "## Lightning in 2 steps\n",
    "\n",
    "\n",
    "### Good points of Pytorch Lightning\n",
    "\n",
    "1. Remove Boiler Plates\n",
    "2. Better Readability\n",
    "3. Reproducable\n",
    "4. Less Error Prone\n",
    "5. Scalable (is this because of multi-gpus?)\n",
    "\n",
    "\n",
    "### Step 1. Define Lightning Module\n",
    "\n",
    "Basic Componenet of Lightning Module \n",
    "\n",
    "- model\n",
    "- training_step\n",
    "- validation_step\n",
    "- test_step\n",
    "- predic_step\n",
    "- configure_optimizers\n",
    "\n",
    "### Step 2. Fit model with pt.Trainer\n",
    "\n",
    "Fit model with Trainer is piece of cake\n",
    "\n",
    "- Load Data\n",
    "- Define Trainer\n",
    "- Fit model\n",
    "- Test model\n",
    "- Predict using model\n",
    "\n",
    "### Further readings\n",
    "\n",
    "- System Examples\n",
    "- Lightning Modules\n",
    "- Trainer Modules\n",
    "- Basic features \n",
    "- Other cool features\n"
   ]
  },
  {
   "cell_type": "code",
   "execution_count": 15,
   "id": "9939c8e2",
   "metadata": {},
   "outputs": [],
   "source": [
    "import torch\n",
    "from torch import nn\n",
    "from torch import optim\n",
    "from torch.utils.data import DataLoader\n",
    "from torchvision import transforms, datasets\n",
    "import torch.nn.functional as F\n",
    "import pytorch_lightning as pl\n",
    "\n",
    "class BaseImageClassificationSystem(pl.LightningModule):\n",
    "    def __init__(self):\n",
    "        super().__init__()\n",
    "        self.backbone = nn.Sequential(nn.Conv2d(1, 64, 3), nn.AdaptiveAvgPool2d((1,1)))\n",
    "        self.fc = nn.Linear(64, 10)\n",
    "        \n",
    "    def forward(self, x):\n",
    "        return self.fc(torch.flatten(self.backbone(x), 1))\n",
    "    \n",
    "    def training_step(self, batch, batch_idx):\n",
    "        x, y = batch\n",
    "        y_hat = self.fc(torch.flatten(self.backbone(x), 1))\n",
    "        loss = F.cross_entropy(y_hat, y)\n",
    "        self.log('train/loss', loss)\n",
    "        return loss\n",
    "    \n",
    "    def configure_optimizers(self):\n",
    "        return optim.SGD(self.parameters(), lr=0.01)"
   ]
  },
  {
   "cell_type": "code",
   "execution_count": 16,
   "id": "cd44e15a",
   "metadata": {},
   "outputs": [
    {
     "name": "stderr",
     "output_type": "stream",
     "text": [
      "GPU available: True, used: True\n",
      "TPU available: False, using: 0 TPU cores\n",
      "IPU available: False, using: 0 IPUs\n",
      "LOCAL_RANK: 0 - CUDA_VISIBLE_DEVICES: [0,1,2,3,4,5,6,7]\n",
      "\n",
      "  | Name     | Type       | Params\n",
      "----------------------------------------\n",
      "0 | backbone | Sequential | 640   \n",
      "1 | fc       | Linear     | 650   \n",
      "----------------------------------------\n",
      "1.3 K     Trainable params\n",
      "0         Non-trainable params\n",
      "1.3 K     Total params\n",
      "0.005     Total estimated model params size (MB)\n"
     ]
    },
    {
     "data": {
      "application/vnd.jupyter.widget-view+json": {
       "model_id": "3a461232b3e247a88a7b229a7b1d2f6f",
       "version_major": 2,
       "version_minor": 0
      },
      "text/plain": [
       "HBox(children=(HTML(value='Training'), FloatProgress(value=1.0, bar_style='info', layout=Layout(flex='2'), max…"
      ]
     },
     "metadata": {},
     "output_type": "display_data"
    },
    {
     "name": "stdout",
     "output_type": "stream",
     "text": [
      "\n"
     ]
    },
    {
     "name": "stderr",
     "output_type": "stream",
     "text": [
      "/home/hankyul/.local/lib/python3.8/site-packages/pytorch_lightning/trainer/trainer.py:1046: UserWarning: Detected KeyboardInterrupt, attempting graceful shutdown...\n",
      "  rank_zero_warn(\"Detected KeyboardInterrupt, attempting graceful shutdown...\")\n"
     ]
    }
   ],
   "source": [
    "train_dl = DataLoader(datasets.MNIST(root='./', train=True, transform=transforms.ToTensor(), download=True), batch_size=128)\n",
    "model = BaseImageClassificationSystem()\n",
    "trainer = pl.Trainer(gpus=1)\n",
    "trainer.fit(model, train_dl)"
   ]
  }
 ],
 "metadata": {
  "kernelspec": {
   "display_name": "Python 3",
   "language": "python",
   "name": "python3"
  },
  "language_info": {
   "codemirror_mode": {
    "name": "ipython",
    "version": 3
   },
   "file_extension": ".py",
   "mimetype": "text/x-python",
   "name": "python",
   "nbconvert_exporter": "python",
   "pygments_lexer": "ipython3",
   "version": "3.8.5"
  }
 },
 "nbformat": 4,
 "nbformat_minor": 5
}
